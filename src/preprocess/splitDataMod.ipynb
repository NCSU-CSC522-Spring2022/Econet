{
 "cells": [
  {
   "cell_type": "code",
   "execution_count": 1,
   "source": [
    "import pandas as pd\n",
    "import numpy as np\n",
    "import matplotlib.pyplot as plt\n",
    "from sklearn.preprocessing import StandardScaler, OneHotEncoder\n",
    "import glob\n",
    "import os\n",
    "from sklearn.ensemble import RandomForestClassifier\n",
    "from sklearn.model_selection import train_test_split\n",
    "from sklearn.metrics import confusion_matrix, classification_report\n",
    "from imblearn.over_sampling import SMOTE \n",
    "from imblearn.under_sampling import TomekLinks \n",
    "from sklearn.model_selection import GridSearchCV\n",
    "from sklearn.neighbors import KNeighborsClassifier\n",
    "from sklearn.linear_model import LogisticRegression\n",
    "import xgboost as xgb\n",
    "from sklearn.model_selection import RepeatedStratifiedKFold\n",
    "import datetime"
   ],
   "outputs": [],
   "metadata": {
    "id": "EEUYF5PRAq7f"
   }
  },
  {
   "cell_type": "markdown",
   "source": [
    "# Read Data"
   ],
   "metadata": {}
  },
  {
   "cell_type": "code",
   "execution_count": 3,
   "source": [
    "filePathTrain = \"C:/Users/athar/Downloads/encodedDataTrainFitX4.csv\"\n",
    "filePathTest = \"C:/Users/athar/Downloads/encodedDataTestFitX4.csv\"\n",
    "trainData = pd.read_csv(filePathTrain)\n",
    "testData = pd.read_csv(filePathTest)"
   ],
   "outputs": [],
   "metadata": {
    "id": "zY824forBKH8"
   }
  },
  {
   "cell_type": "markdown",
   "source": [
    "# Add time column(minutes)"
   ],
   "metadata": {}
  },
  {
   "cell_type": "code",
   "execution_count": 4,
   "source": [
    "trainData[\"AOb\"] = pd.to_datetime(trainData[\"Ob\"], infer_datetime_format=True).dt.time\n",
    "trainData[['h', 'm', 's']] = trainData[\"AOb\"].astype(str).str.split(':', expand=True).astype(int) #pd.DataFrame([(x.hour, x.minute, x.second)])\n",
    "trainData[\"totalMinutes\"] = trainData[\"m\"] + trainData[\"h\"] * 60\n",
    "trainData = trainData.drop(columns=[\"AOb\", \"h\", \"m\", \"s\"], axis=1)"
   ],
   "outputs": [],
   "metadata": {
    "id": "LwPVGNWlA74a"
   }
  },
  {
   "cell_type": "code",
   "execution_count": 5,
   "source": [
    "testData[\"AOb\"] = pd.to_datetime(testData[\"Ob\"], infer_datetime_format=True).dt.time\n",
    "testData[['h', 'm', 's']] = testData[\"AOb\"].astype(str).str.split(':', expand=True).astype(int) #pd.DataFrame([(x.hour, x.minute, x.second)])\n",
    "testData[\"totalMinutes\"] = testData[\"m\"] + testData[\"h\"] * 60\n",
    "testData = testData.drop(columns=[\"AOb\", \"h\", \"m\", \"s\"], axis=1)"
   ],
   "outputs": [],
   "metadata": {
    "id": "ujRgjaIaB2xj"
   }
  },
  {
   "cell_type": "markdown",
   "source": [
    "# Convert Ob column to datetime format"
   ],
   "metadata": {}
  },
  {
   "cell_type": "code",
   "execution_count": 6,
   "source": [
    "trainData[\"Ob\"] = pd.to_datetime(trainData[\"Ob\"], infer_datetime_format=True)"
   ],
   "outputs": [],
   "metadata": {
    "id": "GuQbprUHGQNV"
   }
  },
  {
   "cell_type": "markdown",
   "source": [
    "# Split data into dataframes based on seasons"
   ],
   "metadata": {}
  },
  {
   "cell_type": "code",
   "execution_count": 7,
   "source": [
    "springStart = datetime.datetime(2021, 3, 1)\n",
    "springEnd = datetime.datetime(2021, 5, 31, 23, 59, 59)\n",
    "springDf = trainData[(trainData[\"Ob\"] >= springStart) & (trainData[\"Ob\"] <= springEnd)]"
   ],
   "outputs": [],
   "metadata": {
    "id": "IkQ2tCPIAzQs"
   }
  },
  {
   "cell_type": "code",
   "execution_count": 8,
   "source": [
    "summer1Start = datetime.datetime(2021, 6, 1)\n",
    "summer1End = datetime.datetime(2021, 7, 15, 23, 59, 59)\n",
    "summer1Df = trainData[(trainData[\"Ob\"] >= summer1Start) & (trainData[\"Ob\"] <= summer1End)]\n",
    "summer1Df.shape"
   ],
   "outputs": [
    {
     "output_type": "execute_result",
     "data": {
      "text/plain": [
       "(894420, 67)"
      ]
     },
     "metadata": {},
     "execution_count": 8
    }
   ],
   "metadata": {
    "id": "8k4gbqyOCBMl"
   }
  },
  {
   "cell_type": "code",
   "execution_count": 9,
   "source": [
    "summer2Start = datetime.datetime(2021, 7, 16)\n",
    "summer2End = datetime.datetime(2021, 8, 31, 23, 59, 59)\n",
    "summer2Df = trainData[(trainData[\"Ob\"] >= summer2Start) & (trainData[\"Ob\"] <= summer2End)]\n",
    "summer2Df.shape"
   ],
   "outputs": [
    {
     "output_type": "execute_result",
     "data": {
      "text/plain": [
       "(1025717, 67)"
      ]
     },
     "metadata": {},
     "execution_count": 9
    }
   ],
   "metadata": {
    "id": "Mykb585MCC7c"
   }
  },
  {
   "cell_type": "code",
   "execution_count": 10,
   "source": [
    "fall1Start = datetime.datetime(2021, 9, 1)\n",
    "fall1End = datetime.datetime(2021, 10, 15, 23, 59, 59)\n",
    "fall1Df = trainData[(trainData[\"Ob\"] >= fall1Start) & (trainData[\"Ob\"] <= fall1End)]\n",
    "fall1Df.shape"
   ],
   "outputs": [
    {
     "output_type": "execute_result",
     "data": {
      "text/plain": [
       "(611694, 67)"
      ]
     },
     "metadata": {},
     "execution_count": 10
    }
   ],
   "metadata": {
    "id": "CuK4OT00CEbd"
   }
  },
  {
   "cell_type": "code",
   "execution_count": 11,
   "source": [
    "fall2Start = datetime.datetime(2021, 10, 16)\n",
    "fall2End = datetime.datetime(2021, 11, 30, 23, 59, 59)\n",
    "fall2Df = trainData[(trainData[\"Ob\"] >= fall2Start) & (trainData[\"Ob\"] <= fall2End)]\n",
    "fall2Df.shape"
   ],
   "outputs": [
    {
     "output_type": "execute_result",
     "data": {
      "text/plain": [
       "(678783, 67)"
      ]
     },
     "metadata": {},
     "execution_count": 11
    }
   ],
   "metadata": {
    "id": "4XkAPgu_CGJv"
   }
  },
  {
   "cell_type": "code",
   "execution_count": 12,
   "source": [
    "winterStart = datetime.datetime(2021, 12, 1)\n",
    "winterEnd = datetime.datetime(2021, 12, 31, 23, 59, 59)\n",
    "winterDf = trainData[(trainData[\"Ob\"] >= winterStart) & (trainData[\"Ob\"] <= winterEnd)]"
   ],
   "outputs": [],
   "metadata": {
    "id": "Baon294mCHy-"
   }
  },
  {
   "cell_type": "code",
   "execution_count": 13,
   "source": [
    "winter2Start = datetime.datetime(2021, 1, 1)\n",
    "winter2End = datetime.datetime(2021, 2, 28, 23, 59, 59)\n",
    "winter2Df = trainData[(trainData[\"Ob\"] >= winter2Start) & (trainData[\"Ob\"] <= winter2End)]\n",
    "winterDf = pd.concat([winterDf, winter2Df], ignore_index=True)"
   ],
   "outputs": [],
   "metadata": {
    "id": "X-ePWeruCKZ8"
   }
  },
  {
   "cell_type": "markdown",
   "source": [
    "# Save data frames as csv files"
   ],
   "metadata": {}
  },
  {
   "cell_type": "code",
   "execution_count": 14,
   "source": [
    "springDf.to_csv(\"C:/Users/athar/Downloads/spring.csv\", index=False)\n",
    "winterDf.to_csv(\"C:/Users/athar/Downloads/winter.csv\", index=False)\n",
    "summer1Df.to_csv(\"C:/Users/athar/Downloads/summer1.csv\", index=False)\n",
    "summer2Df.to_csv(\"C:/Users/athar/Downloads/summer2.csv\", index=False)\n",
    "fall1Df.to_csv(\"C:/Users/athar/Downloads/fall1.csv\", index=False)\n",
    "fall2Df.to_csv(\"C:/Users/athar/Downloads/fall2.csv\", index=False)\n",
    "testData.to_csv(\"C:/Users/athar/Downloads/testNormEncoded.csv\", index=False)"
   ],
   "outputs": [],
   "metadata": {
    "id": "FqhjNoTFFBmL"
   }
  }
 ],
 "metadata": {
  "colab": {
   "collapsed_sections": [],
   "name": "splitDataMod.ipynb",
   "provenance": []
  },
  "kernelspec": {
   "display_name": "Python 3 (ipykernel)",
   "language": "python",
   "name": "python3"
  },
  "language_info": {
   "codemirror_mode": {
    "name": "ipython",
    "version": 3
   },
   "file_extension": ".py",
   "mimetype": "text/x-python",
   "name": "python",
   "nbconvert_exporter": "python",
   "pygments_lexer": "ipython3",
   "version": "3.8.13"
  }
 },
 "nbformat": 4,
 "nbformat_minor": 1
}