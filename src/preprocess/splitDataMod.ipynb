{
 "cells": [
  {
   "cell_type": "code",
   "execution_count": 1,
   "metadata": {
    "id": "EEUYF5PRAq7f"
   },
   "outputs": [],
   "source": [
    "import pandas as pd\n",
    "import numpy as np\n",
    "import matplotlib.pyplot as plt\n",
    "from sklearn.preprocessing import StandardScaler, OneHotEncoder\n",
    "import glob\n",
    "import os\n",
    "from sklearn.ensemble import RandomForestClassifier\n",
    "from sklearn.model_selection import train_test_split\n",
    "from sklearn.metrics import confusion_matrix, classification_report\n",
    "from imblearn.over_sampling import SMOTE \n",
    "from imblearn.under_sampling import TomekLinks \n",
    "from sklearn.model_selection import GridSearchCV\n",
    "from sklearn.neighbors import KNeighborsClassifier\n",
    "from sklearn.linear_model import LogisticRegression\n",
    "import xgboost as xgb\n",
    "from sklearn.model_selection import RepeatedStratifiedKFold\n",
    "import datetime"
   ]
  },
  {
   "cell_type": "code",
   "execution_count": 2,
   "metadata": {
    "colab": {
     "base_uri": "https://localhost:8080/"
    },
    "id": "LhHgVPSTBGJw",
    "outputId": "2450737a-26bb-4957-89b0-b36c0d107516"
   },
   "outputs": [],
   "source": [
    "# from google.colab import drive\n",
    "# drive.mount('/content/drive')"
   ]
  },
  {
   "cell_type": "code",
   "execution_count": 3,
   "metadata": {
    "id": "zY824forBKH8"
   },
   "outputs": [],
   "source": [
    "filePathTrain = \"C:/Users/athar/Downloads/encodedDataTrainFitX4.csv\"\n",
    "filePathTest = \"C:/Users/athar/Downloads/encodedDataTestFitX4.csv\"\n",
    "trainData = pd.read_csv(filePathTrain)\n",
    "testData = pd.read_csv(filePathTest)"
   ]
  },
  {
   "cell_type": "code",
   "execution_count": 4,
   "metadata": {
    "id": "LwPVGNWlA74a"
   },
   "outputs": [],
   "source": [
    "# trainData[\"AOb\"] = pd.to_datetime(trainData[\"Ob\"], infer_datetime_format=True).dt.time\n",
    "# trainData[['h', 'm', 's']] = trainData[\"AOb\"].astype(str).str.split(':', expand=True).astype(int) #pd.DataFrame([(x.hour, x.minute, x.second)])\n",
    "# trainData[\"totalMinutes\"] = trainData[\"m\"] + trainData[\"h\"] * 60\n",
    "# trainData = trainData.drop(columns=[\"AOb\", \"h\", \"m\", \"s\"], axis=1)"
   ]
  },
  {
   "cell_type": "code",
   "execution_count": 5,
   "metadata": {
    "id": "ujRgjaIaB2xj"
   },
   "outputs": [],
   "source": [
    "# testData[\"AOb\"] = pd.to_datetime(testData[\"Ob\"], infer_datetime_format=True).dt.time\n",
    "# testData[['h', 'm', 's']] = testData[\"AOb\"].astype(str).str.split(':', expand=True).astype(int) #pd.DataFrame([(x.hour, x.minute, x.second)])\n",
    "# testData[\"totalMinutes\"] = testData[\"m\"] + testData[\"h\"] * 60\n",
    "# testData = testData.drop(columns=[\"AOb\", \"h\", \"m\", \"s\"], axis=1)"
   ]
  },
  {
   "cell_type": "code",
   "execution_count": 6,
   "metadata": {
    "id": "GuQbprUHGQNV"
   },
   "outputs": [],
   "source": [
    "trainData[\"Ob\"] = pd.to_datetime(trainData[\"Ob\"], infer_datetime_format=True)"
   ]
  },
  {
   "cell_type": "code",
   "execution_count": 7,
   "metadata": {
    "id": "IkQ2tCPIAzQs"
   },
   "outputs": [],
   "source": [
    "springStart = datetime.datetime(2021, 3, 1)\n",
    "springEnd = datetime.datetime(2021, 5, 31, 23, 59, 59)\n",
    "springDf = trainData[(trainData[\"Ob\"] >= springStart) & (trainData[\"Ob\"] <= springEnd)]"
   ]
  },
  {
   "cell_type": "code",
   "execution_count": 8,
   "metadata": {
    "id": "8k4gbqyOCBMl"
   },
   "outputs": [
    {
     "data": {
      "text/plain": [
       "(894420, 67)"
      ]
     },
     "execution_count": 8,
     "metadata": {},
     "output_type": "execute_result"
    }
   ],
   "source": [
    "summer1Start = datetime.datetime(2021, 6, 1)\n",
    "summer1End = datetime.datetime(2021, 7, 15, 23, 59, 59)\n",
    "\n",
    "summer1Df = trainData[(trainData[\"Ob\"] >= summer1Start) & (trainData[\"Ob\"] <= summer1End)]\n",
    "summer1Df.shape"
   ]
  },
  {
   "cell_type": "code",
   "execution_count": 9,
   "metadata": {
    "id": "Mykb585MCC7c"
   },
   "outputs": [
    {
     "data": {
      "text/plain": [
       "(1025717, 67)"
      ]
     },
     "execution_count": 9,
     "metadata": {},
     "output_type": "execute_result"
    }
   ],
   "source": [
    "summer2Start = datetime.datetime(2021, 7, 16)\n",
    "summer2End = datetime.datetime(2021, 8, 31, 23, 59, 59)\n",
    "\n",
    "summer2Df = trainData[(trainData[\"Ob\"] >= summer2Start) & (trainData[\"Ob\"] <= summer2End)]\n",
    "summer2Df.shape"
   ]
  },
  {
   "cell_type": "code",
   "execution_count": 10,
   "metadata": {
    "id": "CuK4OT00CEbd"
   },
   "outputs": [
    {
     "data": {
      "text/plain": [
       "(611694, 67)"
      ]
     },
     "execution_count": 10,
     "metadata": {},
     "output_type": "execute_result"
    }
   ],
   "source": [
    "fall1Start = datetime.datetime(2021, 9, 1)\n",
    "fall1End = datetime.datetime(2021, 10, 15, 23, 59, 59)\n",
    "\n",
    "fall1Df = trainData[(trainData[\"Ob\"] >= fall1Start) & (trainData[\"Ob\"] <= fall1End)]\n",
    "fall1Df.shape"
   ]
  },
  {
   "cell_type": "code",
   "execution_count": 11,
   "metadata": {
    "id": "4XkAPgu_CGJv"
   },
   "outputs": [
    {
     "data": {
      "text/plain": [
       "(678783, 67)"
      ]
     },
     "execution_count": 11,
     "metadata": {},
     "output_type": "execute_result"
    }
   ],
   "source": [
    "fall2Start = datetime.datetime(2021, 10, 16)\n",
    "fall2End = datetime.datetime(2021, 11, 30, 23, 59, 59)\n",
    "# springDf = trainData.loc[springStart:springEnd]\n",
    "fall2Df = trainData[(trainData[\"Ob\"] >= fall2Start) & (trainData[\"Ob\"] <= fall2End)]\n",
    "fall2Df.shape"
   ]
  },
  {
   "cell_type": "code",
   "execution_count": 12,
   "metadata": {
    "id": "Baon294mCHy-"
   },
   "outputs": [],
   "source": [
    "winterStart = datetime.datetime(2021, 12, 1)\n",
    "winterEnd = datetime.datetime(2021, 12, 31, 23, 59, 59)\n",
    "# springDf = trainData.loc[springStart:springEnd]\n",
    "winterDf = trainData[(trainData[\"Ob\"] >= winterStart) & (trainData[\"Ob\"] <= winterEnd)]"
   ]
  },
  {
   "cell_type": "code",
   "execution_count": 13,
   "metadata": {
    "id": "X-ePWeruCKZ8"
   },
   "outputs": [],
   "source": [
    "winter2Start = datetime.datetime(2021, 1, 1)\n",
    "winter2End = datetime.datetime(2021, 2, 28, 23, 59, 59)\n",
    "# springDf = trainData.loc[springStart:springEnd]\n",
    "winter2Df = trainData[(trainData[\"Ob\"] >= winter2Start) & (trainData[\"Ob\"] <= winter2End)]\n",
    "winterDf = pd.concat([winterDf, winter2Df], ignore_index=True)"
   ]
  },
  {
   "cell_type": "code",
   "execution_count": 14,
   "metadata": {
    "id": "FqhjNoTFFBmL"
   },
   "outputs": [],
   "source": [
    "springDf.to_csv(\"C:/Users/athar/Downloads/spring.csv\", index=False)\n",
    "winterDf.to_csv(\"C:/Users/athar/Downloads/winter.csv\", index=False)\n",
    "summer1Df.to_csv(\"C:/Users/athar/Downloads/summer1.csv\", index=False)\n",
    "summer2Df.to_csv(\"C:/Users/athar/Downloads/summer2.csv\", index=False)\n",
    "fall1Df.to_csv(\"C:/Users/athar/Downloads/fall1.csv\", index=False)\n",
    "fall2Df.to_csv(\"C:/Users/athar/Downloads/fall2.csv\", index=False)\n",
    "testData.to_csv(\"C:/Users/athar/Downloads/testNormEncoded.csv\", index=False)"
   ]
  },
  {
   "cell_type": "code",
   "execution_count": 15,
   "metadata": {
    "id": "cGu0CiggHNh_"
   },
   "outputs": [
    {
     "name": "stdout",
     "output_type": "stream",
     "text": [
      "                    Ob     value  target  R_flag  I_flag  Z_flag  B_flag  \\\n",
      "34 2021-03-01 09:30:00  0.917130   False       2      -1       0       1   \n",
      "35 2021-03-01 10:30:00  0.920841   False       2      -1       0       1   \n",
      "36 2021-03-01 10:46:00  0.912183   False       2      -1       2       0   \n",
      "37 2021-03-01 10:47:00  0.909091   False       2      -1       2       0   \n",
      "38 2021-03-01 10:48:00  0.905999   False       2      -1       2       0   \n",
      "\n",
      "    measure_blackglobetemp  measure_impact  measure_leafwetness  ...  \\\n",
      "34                       0               0                    0  ...   \n",
      "35                       0               0                    0  ...   \n",
      "36                       0               0                    0  ...   \n",
      "37                       0               0                    0  ...   \n",
      "38                       0               0                    0  ...   \n",
      "\n",
      "    station_SILR  station_SPIN  station_SPRU  station_TAYL  station_UNCA  \\\n",
      "34             0             0             0             0             0   \n",
      "35             0             0             0             0             0   \n",
      "36             0             0             0             0             0   \n",
      "37             0             0             0             0             0   \n",
      "38             0             0             0             0             0   \n",
      "\n",
      "    station_WAYN  station_WHIT  station_WILD  station_WILL  station_WINE  \n",
      "34             0             0             0             0             0  \n",
      "35             0             0             0             0             0  \n",
      "36             0             0             0             0             0  \n",
      "37             0             0             0             0             0  \n",
      "38             0             0             0             0             0  \n",
      "\n",
      "[5 rows x 67 columns]\n"
     ]
    }
   ],
   "source": [
    "print(springDf.head())"
   ]
  },
  {
   "cell_type": "code",
   "execution_count": 16,
   "metadata": {
    "id": "xuB6slh3lGB8"
   },
   "outputs": [
    {
     "name": "stdout",
     "output_type": "stream",
     "text": [
      "                Ob     value  R_flag  I_flag  Z_flag  B_flag  \\\n",
      "0  3/25/2021 10:37  0.931973       2      -1       2       0   \n",
      "1  7/11/2021 13:22  0.975263       2      -1       0       1   \n",
      "2  7/11/2021 13:23  0.975263       2      -1       0       1   \n",
      "3  7/11/2021 13:24  0.975263       2      -1       0       1   \n",
      "4  7/11/2021 13:25  0.975881       2      -1       0       1   \n",
      "\n",
      "   measure_blackglobetemp  measure_impact  measure_leafwetness  measure_par  \\\n",
      "0                       0               0                    0            0   \n",
      "1                       0               0                    0            0   \n",
      "2                       0               0                    0            0   \n",
      "3                       0               0                    0            0   \n",
      "4                       0               0                    0            0   \n",
      "\n",
      "   ...  station_SILR  station_SPIN  station_SPRU  station_TAYL  station_UNCA  \\\n",
      "0  ...             0             0             0             0             0   \n",
      "1  ...             0             0             0             0             0   \n",
      "2  ...             0             0             0             0             0   \n",
      "3  ...             0             0             0             0             0   \n",
      "4  ...             0             0             0             0             0   \n",
      "\n",
      "   station_WAYN  station_WHIT  station_WILD  station_WILL  station_WINE  \n",
      "0             0             0             0             0             0  \n",
      "1             0             0             0             0             0  \n",
      "2             0             0             0             0             0  \n",
      "3             0             0             0             0             0  \n",
      "4             0             0             0             0             0  \n",
      "\n",
      "[5 rows x 66 columns]\n"
     ]
    }
   ],
   "source": [
    "print(testData.head())"
   ]
  },
  {
   "cell_type": "code",
   "execution_count": null,
   "metadata": {
    "id": "PO2m4pX5lRke"
   },
   "outputs": [],
   "source": []
  }
 ],
 "metadata": {
  "colab": {
   "collapsed_sections": [],
   "name": "splitDataMod.ipynb",
   "provenance": []
  },
  "kernelspec": {
   "display_name": "Python 3 (ipykernel)",
   "language": "python",
   "name": "python3"
  },
  "language_info": {
   "codemirror_mode": {
    "name": "ipython",
    "version": 3
   },
   "file_extension": ".py",
   "mimetype": "text/x-python",
   "name": "python",
   "nbconvert_exporter": "python",
   "pygments_lexer": "ipython3",
   "version": "3.8.13"
  }
 },
 "nbformat": 4,
 "nbformat_minor": 1
}
