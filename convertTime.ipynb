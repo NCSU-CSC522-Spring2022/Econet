{
 "cells": [
  {
   "cell_type": "code",
   "execution_count": 2,
   "metadata": {},
   "outputs": [
    {
     "name": "stderr",
     "output_type": "stream",
     "text": [
      "C:\\Users\\ayrisbud\\AppData\\Roaming\\Python\\Python39\\site-packages\\xgboost\\compat.py:36: FutureWarning: pandas.Int64Index is deprecated and will be removed from pandas in a future version. Use pandas.Index with the appropriate dtype instead.\n",
      "  from pandas import MultiIndex, Int64Index\n"
     ]
    }
   ],
   "source": [
    "from audioop import reverse\r\n",
    "from copyreg import pickle\r\n",
    "import pandas as pd\r\n",
    "import numpy as np\r\n",
    "import matplotlib.pyplot as plt\r\n",
    "from sklearn.preprocessing import StandardScaler, OneHotEncoder\r\n",
    "import glob\r\n",
    "import os\r\n",
    "from sklearn.ensemble import RandomForestClassifier\r\n",
    "from sklearn.model_selection import train_test_split\r\n",
    "from sklearn.metrics import accuracy_score, confusion_matrix, classification_report, f1_score, precision_score, recall_score\r\n",
    "from imblearn.over_sampling import SMOTE \r\n",
    "from imblearn.under_sampling import TomekLinks \r\n",
    "from sklearn.model_selection import GridSearchCV\r\n",
    "from sklearn.neighbors import KNeighborsClassifier\r\n",
    "from sklearn.linear_model import LogisticRegression\r\n",
    "import xgboost as xgb\r\n",
    "from sklearn.model_selection import RepeatedStratifiedKFold\r\n",
    "from sklearn.model_selection import cross_validate\r\n",
    "import pickle\r\n",
    "import time\r\n"
   ]
  },
  {
   "cell_type": "code",
   "execution_count": 3,
   "metadata": {},
   "outputs": [
    {
     "name": "stdout",
     "output_type": "stream",
     "text": [
      "['C:/Users/ayrisbud/Downloads/aldaPipeline/Econet/splitSeasonData\\\\fall1.csv', 'C:/Users/ayrisbud/Downloads/aldaPipeline/Econet/splitSeasonData\\\\spring1.csv', 'C:/Users/ayrisbud/Downloads/aldaPipeline/Econet/splitSeasonData\\\\summer1.csv', 'C:/Users/ayrisbud/Downloads/aldaPipeline/Econet/splitSeasonData\\\\winter1.csv']\n"
     ]
    }
   ],
   "source": [
    "myFileList = glob.glob(\"C:/Users/ayrisbud/Downloads/aldaPipeline/Econet/splitDataAug/*.csv\")\r\n",
    "print(myFileList)"
   ]
  },
  {
   "cell_type": "code",
   "execution_count": 4,
   "metadata": {},
   "outputs": [
    {
     "name": "stdout",
     "output_type": "stream",
     "text": [
      "File Done:  fall1\n",
      "File Done:  spring1\n",
      "File Done:  summer1\n",
      "File Done:  winter1\n"
     ]
    }
   ],
   "source": [
    "for file in myFileList:\r\n",
    "    myFileName = os.path.basename(file)\r\n",
    "    myFileName = os.path.splitext(myFileName)[0]\r\n",
    "    myDf = pd.read_csv(file)\r\n",
    "    myDf = myDf.drop(columns=[\"Unnamed: 0.1\", \"Unnamed: 0\"])\r\n",
    "    myDf[\"AOb\"] = pd.to_datetime(myDf[\"Ob\"], infer_datetime_format=True).dt.time\r\n",
    "    myDf[['h', 'm', 's']] = myDf[\"AOb\"].astype(str).str.split(':', expand=True).astype(int) #pd.DataFrame([(x.hour, x.minute, x.second)])\r\n",
    "    myDf[\"totalMinutes\"] = myDf[\"m\"] + myDf[\"h\"] * 60\r\n",
    "    myDf = myDf.drop(columns=[\"Ob\", \"AOb\", \"h\", \"m\", \"s\"], axis=1)\r\n",
    "    myDf.to_csv(\"C:/Users/ayrisbud/Downloads/aldaPipeline/Econet/splitDataMod/\" + myFileName + \"Mod.csv\", index=False)\r\n",
    "    # temp = myDf[\"AOb\"][0].hour\r\n",
    "    # print(temp)\r\n",
    "    # myDf[\"minutes\"] =  myDf[\"AOb\"].hour + myDf[\"AOb\"].dt.minute\r\n",
    "    # print(myDf.head())\r\n",
    "    # print(myDf[\"minutes\"].head())\r\n",
    "    # break\r\n",
    "    # myDf[\"seconds\"] = [time.mktime(t.timetuple()) for t in myDf.Ob]\r\n",
    "    # myDf[\"minutes\"] = myDf[\"seconds\"] / 60\r\n",
    "    # print(myDf.head(20))\r\n",
    "    # break\r\n",
    "    # for index, row in myDf.iterrows():\r\n",
    "    #     # print(row[\"Ob\"])\r\n",
    "    #     # print(type(row[\"Ob\"]))\r\n",
    "    #     hours = row[\"Ob\"].hour\r\n",
    "    #     minutes = row[\"Ob\"].minute\r\n",
    "    #     totalMinutes = minutes + (hours * 60)\r\n",
    "    #     myDf[\"minutes\"][index] = totalMinutes\r\n",
    "    #     # print(myDf[\"minutes\"])\r\n",
    "    print(\"File Done: \", myFileName)\r\n",
    "    # myDf.to_csv(myFileName)    \r\n",
    "    "
   ]
  },
  {
   "cell_type": "code",
   "execution_count": 11,
   "metadata": {},
   "outputs": [],
   "source": [
    "mySummerDf = pd.read_csv(\"C:/Users/ayrisbud/Downloads/aldaPipeline/Econet/splitSeasonData/summer1.csv\")\r\n",
    "myFallDf = pd.read_csv(\"C:/Users/ayrisbud/Downloads/aldaPipeline/Econet/splitSeasonData/fall1.csv\")"
   ]
  },
  {
   "cell_type": "code",
   "execution_count": 12,
   "metadata": {},
   "outputs": [],
   "source": [
    "import time\r\n",
    "import datetime"
   ]
  },
  {
   "cell_type": "code",
   "execution_count": 13,
   "metadata": {},
   "outputs": [],
   "source": [
    "summer1Start = datetime.datetime(2021, 6, 1)\r\n",
    "summer1End = datetime.datetime(2021, 7, 15)\r\n",
    "summer2Start = datetime.datetime(2021, 7, 16)\r\n",
    "summer2End = datetime.datetime(2021, 8, 31)\r\n",
    "fall1Start = datetime.datetime(2021, 9, 1)\r\n",
    "fall1End = datetime.datetime(2021, 10, 15)\r\n",
    "fall2Start = datetime.datetime(2021, 10, 16)\r\n",
    "fall2End = datetime.datetime(2021, 11, 30)\r\n",
    "mySummerDf[\"Ob\"] = pd.to_datetime(mySummerDf[\"Ob\"], infer_datetime_format=True)\r\n",
    "myFallDf[\"Ob\"] = pd.to_datetime(myFallDf[\"Ob\"], infer_datetime_format=True)"
   ]
  },
  {
   "cell_type": "code",
   "execution_count": 14,
   "metadata": {},
   "outputs": [],
   "source": [
    "summer1Df = mySummerDf[(mySummerDf[\"Ob\"] >= summer1Start) & (mySummerDf[\"Ob\"] <= summer1End)]\r\n",
    "summer2Df = mySummerDf[(mySummerDf[\"Ob\"] >= summer2Start) & (mySummerDf[\"Ob\"] <= summer2End)]\r\n",
    "fall1Df = myFallDf[(myFallDf[\"Ob\"] >= fall1Start) & (myFallDf[\"Ob\"] <= fall1End)]\r\n",
    "fall2Df = myFallDf[(myFallDf[\"Ob\"] >= fall2Start) & (myFallDf[\"Ob\"] <= fall2End)]"
   ]
  },
  {
   "cell_type": "code",
   "execution_count": 15,
   "metadata": {},
   "outputs": [],
   "source": [
    "summer1Df.to_csv(\"summer11.csv\", index=False)\r\n",
    "summer2Df.to_csv(\"summer12.csv\", index=False)\r\n",
    "fall1Df.to_csv(\"fall11.csv\", index=False)\r\n",
    "fall2Df.to_csv(\"fall12.csv\", index=False)"
   ]
  },
  {
   "cell_type": "code",
   "execution_count": null,
   "metadata": {},
   "outputs": [],
   "source": []
  }
 ],
 "metadata": {
  "kernelspec": {
   "display_name": "Python 3.9.0 64-bit",
   "name": "python390jvsc74a57bd0ac59ebe37160ed0dfa835113d9b8498d9f09ceb179beaac4002f036b9467c963"
  },
  "language_info": {
   "codemirror_mode": {
    "name": "ipython",
    "version": 3
   },
   "file_extension": ".py",
   "mimetype": "text/x-python",
   "name": "python",
   "nbconvert_exporter": "python",
   "pygments_lexer": "ipython3",
   "version": "3.9.0"
  },
  "metadata": {
   "interpreter": {
    "hash": "ac59ebe37160ed0dfa835113d9b8498d9f09ceb179beaac4002f036b9467c963"
   }
  },
  "orig_nbformat": 2
 },
 "nbformat": 4,
 "nbformat_minor": 2
}